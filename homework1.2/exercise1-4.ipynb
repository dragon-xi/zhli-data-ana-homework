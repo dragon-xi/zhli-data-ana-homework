{
 "cells": [
  {
   "cell_type": "markdown",
   "metadata": {},
   "source": [
    "# exercise1-4 TTree的MakeClass\n",
    "- MakeClass方法，提供了访问ROOT文件的TTree内部数据所需的类(Class)的结构"
   ]
  },
  {
   "cell_type": "markdown",
   "metadata": {},
   "source": [
    "## 调用Make Class的方法\n",
    "\n",
    "root -l rootname.root\n",
    "\n",
    "tree->MakeClass(\"MyClass\");\n",
    "\n",
    "执行命令后，会创建MyClass.h和MyClass.C文件\n",
    "\n",
    "- MyClass.h\n",
    " - 声明所有的TTree的Branch内的变量；\n",
    " - 设置TBranch的地址（SetBranchAddress）\n",
    "- MyClass.C\n",
    " - MyClass::Loop()函数的代码框架-用户需要填入自己的代码。"
   ]
  },
  {
   "cell_type": "markdown",
   "metadata": {},
   "source": [
    "## 执行MakeClass输出脚本\n",
    "\n",
    "root下执行\n",
    "- .L myclass.C //加载代码\n",
    "- myclass name //声明类\n",
    "-  name.GetEntry(12);//调用类中函数， Fill t data members with entry number 12\n",
    "- name.Show();       // Show values of entry 12\n",
    "- name.Show(16);     // Read and show values of entry 16\n",
    "- name.Loop();       // Loop on all entries"
   ]
  },
  {
   "cell_type": "markdown",
   "metadata": {},
   "source": [
    "## MakeClass with TChain\n",
    "\n",
    "- 适用chain命令\n",
    "TChain* chain=new TChain(\"tree\");\n",
    "\n",
    "chain->Add(\"run0001.root\");\n",
    "\n",
    "chain->Add(\"run0002.root\");\n",
    "\n",
    "chain->Add(\"run0003.root\");\n",
    "\n",
    "chain->Add(\"run0004.root\");\n",
    "\n",
    "chain->Add(\"run0005.root\");\n",
    "\n",
    "- 生成chain脚本文件\n",
    "chain->MakeClass(\"ppac_chain\");"
   ]
  },
  {
   "cell_type": "code",
   "execution_count": 1,
   "metadata": {},
   "outputs": [
    {
     "name": "stdout",
     "output_type": "stream",
     "text": [
      "[NbConvertApp] Converting notebook exercise1-4.ipynb to html\n",
      "\n",
      "\n"
     ]
    }
   ],
   "source": [
    "!jupyter nbconvert exercise1-4 --to html"
   ]
  }
 ],
 "metadata": {
  "kernelspec": {
   "display_name": "ROOT C++",
   "language": "c++",
   "name": "root"
  },
  "language_info": {
   "codemirror_mode": "text/x-c++src",
   "file_extension": ".C",
   "mimetype": " text/x-c++src",
   "name": "c++"
  },
  "toc": {
   "base_numbering": 1,
   "nav_menu": {},
   "number_sections": true,
   "sideBar": true,
   "skip_h1_title": false,
   "title_cell": "Table of Contents",
   "title_sidebar": "Contents",
   "toc_cell": false,
   "toc_position": {},
   "toc_section_display": true,
   "toc_window_display": false
  }
 },
 "nbformat": 4,
 "nbformat_minor": 4
}
