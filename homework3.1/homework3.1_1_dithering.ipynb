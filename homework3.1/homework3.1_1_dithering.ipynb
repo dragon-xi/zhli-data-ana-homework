{
 "cells": [
  {
   "cell_type": "markdown",
   "metadata": {},
   "source": [
    "# homework3.1_1 dithering Code"
   ]
  },
  {
   "cell_type": "markdown",
   "metadata": {},
   "source": [
    "## dithering 代码\n",
    "\n",
    "```c++\n",
    "#include <TFile.h>\n",
    "#include <TTree.h>\n",
    "#include <TString.h>\n",
    "#include <TRandom3.h>\n",
    "\n",
    "void dithering()\n",
    "{\n",
    "\t//打开s4.root文件,继承tree\n",
    "\tTFile * ipf = new TFile(\"../s4.root\");\n",
    "\tif (ipf->IsZombie())\n",
    "  \t{\n",
    "      \t\tcout << \"Error opening file\" << endl;\n",
    "          \texit(-1);\n",
    "\t}\n",
    "\tipf->cd();\n",
    "\tTTree * ipt = (TTree *)ipf->Get(\"tree\");\n",
    "\n",
    "\t//ipf中Branch以及参量\n",
    "\tInt_t pe[48],re[48];\n",
    "\tfor(Int_t i = 0;i<48;i++)\n",
    "\t{\n",
    "\t\tpe[i] = -1.0;\n",
    "\t\tre[i] = -1.0;\n",
    "\t}\n",
    "\n",
    "\tipt->SetBranchAddress(\"pe\",&pe);\n",
    "\tipt->SetBranchAddress(\"re\",&re);\n",
    "\n",
    "\t//新root文件与tree\n",
    "\tTFile * opf = new TFile(\"../s4dith.root\",\"recreate\");\n",
    "\tTTree * opt = new TTree(\"tree\",\"dithering\");\n",
    "\t\n",
    "\t//新root文件变量,与新Branch\n",
    "\tDouble_t pedith[48],redith[48];\n",
    "\n",
    "\topt->Branch(\"pedith\",&pedith,\"pedith[48]/D\");\n",
    "\topt->Branch(\"redith\",&redith,\"redith[48]/D\");\n",
    "\n",
    "\t//随机数\n",
    "\tTRandom3 * gr = new TRandom3(0);\n",
    "\n",
    "\t//遍历事件，加入（0，1）随计数\n",
    "\tLong64_t nentries = ipt->GetEntries();\n",
    "\tfor(Long64_t jentry = 0; jentry<nentries;jentry++)\n",
    "\t{\n",
    "\t\tipt->GetEntry(jentry);\n",
    "\t\tfor(Int_t i = 0;i<48;i++)\n",
    "\t\t{\n",
    "\t\t\tpedith[i] = pe[i] + gr->Uniform(0,1);\n",
    "\t\t\tredith[i] = re[i] + gr->Uniform(0,1);\n",
    "\t\t}\n",
    "\t\topt->Fill();\n",
    "\t\tif(jentry%100000==0) cout<<\"process \"<<jentry<<\" of \"<<nentries<<endl;\n",
    "\t}\n",
    "\topt->Write();\n",
    "\topf->Close();\n",
    "\tipf->Close();\n",
    "}\n",
    "```"
   ]
  },
  {
   "cell_type": "markdown",
   "metadata": {},
   "source": [
    "## check"
   ]
  },
  {
   "cell_type": "code",
   "execution_count": 1,
   "metadata": {},
   "outputs": [
    {
     "name": "stdout",
     "output_type": "stream",
     "text": [
      "\u001b[?1034h"
     ]
    }
   ],
   "source": [
    "TFile *ipf = new TFile(\"s4dith.root\",\"read\");\n",
    "TTree * tree = (TTree*)ipf->Get(\"tree\");\n",
    "TCanvas *c1 =  new TCanvas();"
   ]
  },
  {
   "cell_type": "code",
   "execution_count": 2,
   "metadata": {
    "scrolled": true
   },
   "outputs": [
    {
     "name": "stdout",
     "output_type": "stream",
     "text": [
      "******************************************************************************\n",
      "*Tree    :tree      : dithering                                              *\n",
      "*Entries :  5790825 : Total =      4447613336 bytes  File  Size = 2977772956 *\n",
      "*        :          : Tree compression factor =   1.49                       *\n",
      "******************************************************************************\n",
      "*Br    0 :pedith    : pedith[48]/D                                           *\n",
      "*Entries :5790825 : Total  Size= 2223806488 bytes  File Size  = 1482779425 *\n",
      "*Baskets :     1391 : Basket Size=    3200512 bytes  Compression=   1.50     *\n",
      "*............................................................................*\n",
      "*Br    1 :redith    : redith[48]/D                                           *\n",
      "*Entries :5790825 : Total  Size= 2223806488 bytes  File Size  = 1494965665 *\n",
      "*Baskets :     1391 : Basket Size=    3200512 bytes  Compression=   1.49     *\n",
      "*............................................................................*\n"
     ]
    }
   ],
   "source": [
    "tree->Print();"
   ]
  },
  {
   "cell_type": "code",
   "execution_count": 3,
   "metadata": {},
   "outputs": [
    {
     "name": "stdout",
     "output_type": "stream",
     "text": [
      "***********************************************\n",
      "*    Row   * Instance *    pedith *    redith *\n",
      "***********************************************\n",
      "*       54 *        1 * 1139.7651 * 876.45273 *\n",
      "*      124 *       15 * 914.95815 * 156.13581 *\n",
      "*      198 *       22 * 1057.4589 * 794.56490 *\n",
      "*      305 *       35 * 1031.5943 * 106.69558 *\n",
      "*      313 *       12 *  946.1501 * 710.26927 *\n",
      "*      395 *       35 * 377.51268 * 157.08704 *\n",
      "*      805 *       41 * 886.34461 * 822.60018 *\n",
      "*      812 *       20 * 1066.4174 * 79.331253 *\n",
      "*      838 *       40 * 1392.3979 * 1307.4033 *\n",
      "*      958 *       22 * 1415.5214 * 1350.1644 *\n",
      "***********************************************\n",
      "==> 10 selected entries\n"
     ]
    }
   ],
   "source": [
    "tree->Scan(\"pedith:redith\",\"pedith>0&& redith>0\",\"\",1000,1);//第4参数-事件数，第5参数-起始事件编号\n",
    "//jupyter上的Scan必须指定第4个参数(事件数)"
   ]
  },
  {
   "cell_type": "code",
   "execution_count": 4,
   "metadata": {
    "scrolled": false
   },
   "outputs": [
    {
     "data": {
      "image/png": "[encoded data removed]",
      "text/plain": [
       "<IPython.core.display.Image object>"
      ]
     },
     "metadata": {},
     "output_type": "display_data"
    }
   ],
   "source": [
    "tree->Draw(\"pedith[1]*0.007179-1.565575>>(1000,-1,10)\");\n",
    "c1->Draw();"
   ]
  },
  {
   "cell_type": "code",
   "execution_count": 5,
   "metadata": {},
   "outputs": [],
   "source": [
    "ipf->Close();"
   ]
  },
  {
   "cell_type": "code",
   "execution_count": 6,
   "metadata": {},
   "outputs": [
    {
     "data": {
      "image/png": "[encoded data removed]",
      "text/plain": [
       "<IPython.core.display.Image object>"
      ]
     },
     "metadata": {},
     "output_type": "display_data"
    }
   ],
   "source": [
    "ipf = new TFile(\"s4.root\",\"read\");\n",
    "tree = (TTree*)ipf->Get(\"tree\");\n",
    "tree->Draw(\"pe[1]*0.007179-1.565575>>(1000,-1,10)\");\n",
    "c1->Draw();"
   ]
  },
  {
   "cell_type": "code",
   "execution_count": 7,
   "metadata": {},
   "outputs": [],
   "source": [
    "ipf->Close();"
   ]
  },
  {
   "cell_type": "markdown",
   "metadata": {},
   "source": [
    "## 小结\n",
    "**对比发现连续化之后加入刻度系数没有了锯齿，谱更加圆滑！**"
   ]
  },
  {
   "cell_type": "code",
   "execution_count": 8,
   "metadata": {},
   "outputs": [
    {
     "name": "stdout",
     "output_type": "stream",
     "text": [
      "[NbConvertApp] Converting notebook homework3.1_1_dithering.ipynb to html\n",
      "\n",
      "\n"
     ]
    }
   ],
   "source": [
    "!jupyter nbconvert homework3.1_1_dithering.ipynb --to html"
   ]
  }
 ],
 "metadata": {
  "kernelspec": {
   "display_name": "ROOT C++",
   "language": "c++",
   "name": "root"
  },
  "language_info": {
   "codemirror_mode": "text/x-c++src",
   "file_extension": ".C",
   "mimetype": " text/x-c++src",
   "name": "c++"
  },
  "toc": {
   "base_numbering": 1,
   "nav_menu": {},
   "number_sections": true,
   "sideBar": true,
   "skip_h1_title": false,
   "title_cell": "Table of Contents",
   "title_sidebar": "Contents",
   "toc_cell": false,
   "toc_position": {},
   "toc_section_display": true,
   "toc_window_display": false
  }
 },
 "nbformat": 4,
 "nbformat_minor": 4
}
