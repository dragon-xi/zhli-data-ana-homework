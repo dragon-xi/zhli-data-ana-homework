{
 "cells": [
  {
   "cell_type": "markdown",
   "metadata": {},
   "source": [
    "# homework3.1_1 dithering Code"
   ]
  },
  {
   "cell_type": "markdown",
   "metadata": {},
   "source": [
    "## dithering 代码\n",
    "\n",
    "```c++\n",
    "#include <TFile.h>\n",
    "#include <TTree.h>\n",
    "#include <TString.h>\n",
    "#include <TRandom3.h>\n",
    "\n",
    "void dithering()\n",
    "{\n",
    "\t//打开s4.root文件,继承tree\n",
    "\tTFile * ipf = new TFile(\"../s4.root\");\n",
    "\tif (ipf->IsZombie())\n",
    "  \t{\n",
    "      \t\tcout << \"Error opening file\" << endl;\n",
    "          \texit(-1);\n",
    "\t}\n",
    "\tipf->cd();\n",
    "\tTTree * ipt = (TTree *)ipf->Get(\"tree\");\n",
    "\n",
    "\t//ipf中Branch以及参量\n",
    "\tInt_t pe[48],re[48];\n",
    "\tfor(Int_t i = 0;i<48;i++)\n",
    "\t{\n",
    "\t\tpe[i] = -1.0;\n",
    "\t\tre[i] = -1.0;\n",
    "\t}\n",
    "\n",
    "\tipt->SetBranchAddress(\"pe\",&pe);\n",
    "\tipt->SetBranchAddress(\"re\",&re);\n",
    "\n",
    "\t//新root文件与tree\n",
    "\tTFile * opf = new TFile(\"../s4dith.root\",\"recreate\");\n",
    "\tTTree * opt = new TTree(\"tree\",\"dithering\");\n",
    "\t\n",
    "\t//新root文件变量,与新Branch\n",
    "\tDouble_t pedith[48],redith[48];\n",
    "\n",
    "\topt->Branch(\"pedith\",&pedith,\"pedith[48]/D\");\n",
    "\topt->Branch(\"redith\",&redith,\"redith[48]/D\");\n",
    "\n",
    "\t//随机数\n",
    "\tTRandom3 * gr = new TRandom3(0);\n",
    "\n",
    "\t//遍历事件，加入（0，1）随计数\n",
    "\tLong64_t nentries = ipt->GetEntries();\n",
    "\tfor(Long64_t jentry = 0; jentry<nentries;jentry++)\n",
    "\t{\n",
    "\t\tipt->GetEntry(jentry);\n",
    "\t\tfor(Int_t i = 0;i<48;i++)\n",
    "\t\t{\n",
    "\t\t\tpedith[i] = pe[i] + gr->Uniform(0,1);\n",
    "\t\t\tredith[i] = re[i] + gr->Uniform(0,1);\n",
    "\t\t}\n",
    "\t\topt->Fill();\n",
    "\t\tif(jentry%100000==0) cout<<\"process \"<<jentry<<\" of \"<<nentries<<endl;\n",
    "\t}\n",
    "\topt->Write();\n",
    "\topf->Close();\n",
    "\tipf->Close();\n",
    "}\n",
    "```"
   ]
  },
  {
   "cell_type": "markdown",
   "metadata": {},
   "source": [
    "## check"
   ]
  },
  {
   "cell_type": "code",
   "execution_count": 1,
   "metadata": {},
   "outputs": [],
   "source": [
    "%jsroot on"
   ]
  },
  {
   "cell_type": "code",
   "execution_count": 2,
   "metadata": {},
   "outputs": [
    {
     "name": "stdout",
     "output_type": "stream",
     "text": [
      "\u001b[?1034h"
     ]
    }
   ],
   "source": [
    "TFile *ipf = new TFile(\"s4dith.root\",\"read\");\n",
    "TTree * tree = (TTree*)ipf->Get(\"tree\");\n",
    "TCanvas *c1 =  new TCanvas();"
   ]
  },
  {
   "cell_type": "code",
   "execution_count": 3,
   "metadata": {
    "scrolled": true
   },
   "outputs": [
    {
     "name": "stdout",
     "output_type": "stream",
     "text": [
      "******************************************************************************\n",
      "*Tree    :tree      : dithering                                              *\n",
      "*Entries :  5790825 : Total =      4447613336 bytes  File  Size = 2977772956 *\n",
      "*        :          : Tree compression factor =   1.49                       *\n",
      "******************************************************************************\n",
      "*Br    0 :pedith    : pedith[48]/D                                           *\n",
      "*Entries :5790825 : Total  Size= 2223806488 bytes  File Size  = 1482779425 *\n",
      "*Baskets :     1391 : Basket Size=    3200512 bytes  Compression=   1.50     *\n",
      "*............................................................................*\n",
      "*Br    1 :redith    : redith[48]/D                                           *\n",
      "*Entries :5790825 : Total  Size= 2223806488 bytes  File Size  = 1494965665 *\n",
      "*Baskets :     1391 : Basket Size=    3200512 bytes  Compression=   1.49     *\n",
      "*............................................................................*\n"
     ]
    }
   ],
   "source": [
    "tree->Print();"
   ]
  },
  {
   "cell_type": "code",
   "execution_count": 4,
   "metadata": {},
   "outputs": [
    {
     "name": "stdout",
     "output_type": "stream",
     "text": [
      "***********************************************\n",
      "*    Row   * Instance *    pedith *    redith *\n",
      "***********************************************\n",
      "*       54 *        1 * 1139.7651 * 876.45273 *\n",
      "*      124 *       15 * 914.95815 * 156.13581 *\n",
      "*      198 *       22 * 1057.4589 * 794.56490 *\n",
      "*      305 *       35 * 1031.5943 * 106.69558 *\n",
      "*      313 *       12 *  946.1501 * 710.26927 *\n",
      "*      395 *       35 * 377.51268 * 157.08704 *\n",
      "*      805 *       41 * 886.34461 * 822.60018 *\n",
      "*      812 *       20 * 1066.4174 * 79.331253 *\n",
      "*      838 *       40 * 1392.3979 * 1307.4033 *\n",
      "*      958 *       22 * 1415.5214 * 1350.1644 *\n",
      "***********************************************\n",
      "==> 10 selected entries\n"
     ]
    }
   ],
   "source": [
    "tree->Scan(\"pedith:redith\",\"pedith>0&& redith>0\",\"\",1000,1);//第4参数-事件数，第5参数-起始事件编号\n",
    "//jupyter上的Scan必须指定第4个参数(事件数)"
   ]
  },
  {
   "cell_type": "code",
   "execution_count": 5,
   "metadata": {
    "scrolled": false
   },
   "outputs": [
    {
     "data": {
      "text/html": [
       "\n",
       "<div id=\"root_plot_1\"\n",
       "     style=\"width: 696px; height: 472px\">\n",
       "</div>\n",
       "\n",
       "<script>\n",
       " requirejs.config({\n",
       "     paths: {\n",
       "       'JSRootCore' : 'https://root.cern.ch/js/notebook//scripts/JSRootCore',\n",
       "     }\n",
       "   });\n",
       " require(['JSRootCore'],\n",
       "     function(Core) {\n",
       "       var obj = Core.JSONR_unref({\"_typename\":\"TCanvas\",\"fUniqueID\":0,\"fBits\":53673992,\"fLineColor\":1,\"fLineStyle\":1,\"fLineWidth\":1,\"fFillColor\":0,\"fFillStyle\":1001,\"fLeftMargin\":0.1,\"fRightMargin\":0.1,\"fBottomMargin\":0.1,\"fTopMargin\":0.1,\"fXfile\":2,\"fYfile\":2,\"fAfile\":1,\"fXstat\":0.99,\"fYstat\":0.99,\"fAstat\":2,\"fFrameFillColor\":0,\"fFrameLineColor\":1,\"fFrameFillStyle\":1001,\"fFrameLineStyle\":1,\"fFrameLineWidth\":1,\"fFrameBorderSize\":1,\"fFrameBorderMode\":0,\"fX1\":-2.37500010244549,\"fY1\":-194.64376450209,\"fX2\":11.3750001024455,\"fY2\":1751.79376450209,\"fXtoAbsPixelk\":120.218235212396,\"fXtoPixelk\":120.218235212396,\"fXtoPixel\":50.6181810639121,\"fYtoAbsPixelk\":424.800047186661,\"fYtoPixelk\":424.800047186661,\"fYtoPixel\":-0.242494296871413,\"fUtoAbsPixelk\":5e-5,\"fUtoPixelk\":5e-5,\"fUtoPixel\":696,\"fVtoAbsPixelk\":472.00005,\"fVtoPixelk\":472,\"fVtoPixel\":-472,\"fAbsPixeltoXk\":-2.37500010244549,\"fPixeltoXk\":-2.37500010244549,\"fPixeltoX\":0.0197557474208204,\"fAbsPixeltoYk\":1751.79376450209,\"fPixeltoYk\":-194.64376450209,\"fPixeltoY\":-4.1238083241614,\"fXlowNDC\":0,\"fYlowNDC\":0,\"fXUpNDC\":0,\"fYUpNDC\":0,\"fWNDC\":1,\"fHNDC\":1,\"fAbsXlowNDC\":0,\"fAbsYlowNDC\":0,\"fAbsWNDC\":1,\"fAbsHNDC\":1,\"fUxmin\":-1,\"fUymin\":0,\"fUxmax\":10,\"fUymax\":1557.15,\"fTheta\":30,\"fPhi\":30,\"fAspectRatio\":0,\"fNumber\":0,\"fTickx\":0,\"fTicky\":0,\"fLogx\":0,\"fLogy\":0,\"fLogz\":0,\"fPadPaint\":0,\"fCrosshair\":0,\"fCrosshairPos\":0,\"fBorderSize\":2,\"fBorderMode\":0,\"fModified\":false,\"fGridx\":false,\"fGridy\":false,\"fAbsCoord\":false,\"fEditable\":true,\"fFixedAspectRatio\":false,\"fPrimitives\":{\"_typename\":\"TList\",\"name\":\"TList\",\"arr\":[{\"_typename\":\"TFrame\",\"fUniqueID\":0,\"fBits\":50331656,\"fLineColor\":1,\"fLineStyle\":1,\"fLineWidth\":1,\"fFillColor\":0,\"fFillStyle\":1001,\"fX1\":-1,\"fY1\":0,\"fX2\":10,\"fY2\":1557.15,\"fBorderSize\":1,\"fBorderMode\":0},{\"_typename\":\"TH1F\",\"fUniqueID\":0,\"fBits\":50331656,\"fName\":\"\",\"fTitle\":\"pedith[1]*0.007179-1.565575\",\"fLineColor\":602,\"fLineStyle\":1,\"fLineWidth\":1,\"fFillColor\":0,\"fFillStyle\":1001,\"fMarkerColor\":1,\"fMarkerStyle\":1,\"fMarkerSize\":1,\"fNcells\":1002,\"fXaxis\":{\"_typename\":\"TAxis\",\"fUniqueID\":0,\"fBits\":50331648,\"fName\":\"xaxis\",\"fTitle\":\"\",\"fNdivisions\":510,\"fAxisColor\":1,\"fLabelColor\":1,\"fLabelFont\":42,\"fLabelOffset\":0.005,\"fLabelSize\":0.035,\"fTickLength\":0.03,\"fTitleOffset\":1,\"fTitleSize\":0.035,\"fTitleColor\":1,\"fTitleFont\":42,\"fNbins\":1000,\"fXmin\":-1,\"fXmax\":10,\"fXbins\":[],\"fFirst\":0,\"fLast\":0,\"fBits2\":0,\"fTimeDisplay\":false,\"fTimeFormat\":\"\",\"fLabels\":null,\"fModLabs\":null},\"fYaxis\":{\"_typename\":\"TAxis\",\"fUniqueID\":0,\"fBits\":50331648,\"fName\":\"yaxis\",\"fTitle\":\"\",\"fNdivisions\":510,\"fAxisColor\":1,\"fLabelColor\":1,\"fLabelFont\":42,\"fLabelOffset\":0.005,\"fLabelSize\":0.035,\"fTickLength\":0.03,\"fTitleOffset\":0,\"fTitleSize\":0.035,\"fTitleColor\":1,\"fTitleFont\":42,\"fNbins\":1,\"fXmin\":0,\"fXmax\":1,\"fXbins\":[],\"fFirst\":0,\"fLast\":0,\"fBits2\":0,\"fTimeDisplay\":false,\"fTimeFormat\":\"\",\"fLabels\":null,\"fModLabs\":null},\"fZaxis\":{\"_typename\":\"TAxis\",\"fUniqueID\":0,\"fBits\":50331648,\"fName\":\"zaxis\",\"fTitle\":\"\",\"fNdivisions\":510,\"fAxisColor\":1,\"fLabelColor\":1,\"fLabelFont\":42,\"fLabelOffset\":0.005,\"fLabelSize\":0.035,\"fTickLength\":0.03,\"fTitleOffset\":1,\"fTitleSize\":0.035,\"fTitleColor\":1,\"fTitleFont\":42,\"fNbins\":1,\"fXmin\":0,\"fXmax\":1,\"fXbins\":[],\"fFirst\":0,\"fLast\":0,\"fBits2\":0,\"fTimeDisplay\":false,\"fTimeFormat\":\"\",\"fLabels\":null,\"fModLabs\":null},\"fBarOffset\":0,\"fBarWidth\":1000,\"fEntries\":5790825,\"fTsumw\":68117,\"fTsumw2\":68117,\"fTsumwx\":376006.090392691,\"fTsumwx2\":2299561.33366742,\"fMaximum\":-1111,\"fMinimum\":-1111,\"fNormFactor\":0,\"fContour\":[],\"fSumw2\":[],\"fOption\":\"\",\"fFunctions\":{\"_typename\":\"TList\",\"name\":\"TList\",\"arr\":[{\"_typename\":\"TPaveStats\",\"fUniqueID\":0,\"fBits\":50331657,\"fLineColor\":1,\"fLineStyle\":1,\"fLineWidth\":1,\"fFillColor\":0,\"fFillStyle\":1001,\"fX1\":8.35000027865172,\"fY1\":1313.84533207782,\"fX2\":11.1000003606081,\"fY2\":1625.27532975749,\"fX1NDC\":0.780000016093254,\"fY1NDC\":0.775000005960464,\"fX2NDC\":0.980000019073486,\"fY2NDC\":0.935000002384186,\"fBorderSize\":1,\"fInit\":1,\"fShadowColor\":1,\"fCornerRadius\":0,\"fOption\":\"brNDC\",\"fName\":\"stats\",\"fTextAngle\":0,\"fTextSize\":0,\"fTextAlign\":12,\"fTextColor\":1,\"fTextFont\":42,\"fLabel\":\"\",\"fLongest\":18,\"fMargin\":0.05,\"fLines\":{\"_typename\":\"TList\",\"name\":\"TList\",\"arr\":[{\"_typename\":\"TLatex\",\"fUniqueID\":0,\"fBits\":50331648,\"fName\":\"\",\"fTitle\":\"\",\"fTextAngle\":0,\"fTextSize\":0.0368,\"fTextAlign\":0,\"fTextColor\":0,\"fTextFont\":0,\"fX\":0,\"fY\":0,\"fLineColor\":1,\"fLineStyle\":1,\"fLineWidth\":2,\"fLimitFactorSize\":3,\"fOriginSize\":0.04},{\"_typename\":\"TLatex\",\"fUniqueID\":0,\"fBits\":50331648,\"fName\":\"\",\"fTitle\":\"Entries = 5790825\",\"fTextAngle\":0,\"fTextSize\":0,\"fTextAlign\":0,\"fTextColor\":0,\"fTextFont\":0,\"fX\":0,\"fY\":0,\"fLineColor\":1,\"fLineStyle\":1,\"fLineWidth\":2,\"fLimitFactorSize\":3,\"fOriginSize\":0.04},{\"_typename\":\"TLatex\",\"fUniqueID\":0,\"fBits\":50331648,\"fName\":\"\",\"fTitle\":\"Mean  =   5.52\",\"fTextAngle\":0,\"fTextSize\":0,\"fTextAlign\":0,\"fTextColor\":0,\"fTextFont\":0,\"fX\":0,\"fY\":0,\"fLineColor\":1,\"fLineStyle\":1,\"fLineWidth\":2,\"fLimitFactorSize\":3,\"fOriginSize\":0.04},{\"_typename\":\"TLatex\",\"fUniqueID\":0,\"fBits\":50331648,\"fName\":\"\",\"fTitle\":\"Std Dev   =  1.813\",\"fTextAngle\":0,\"fTextSize\":0,\"fTextAlign\":0,\"fTextColor\":0,\"fTextFont\":0,\"fX\":0,\"fY\":0,\"fLineColor\":1,\"fLineStyle\":1,\"fLineWidth\":2,\"fLimitFactorSize\":3,\"fOriginSize\":0.04}],\"opt\":[\"\",\"\",\"\",\"\"]},\"fOptFit\":0,\"fOptStat\":1111,\"fFitFormat\":\"5.4g\",\"fStatFormat\":\"6.4g\",\"fParent\":{\"$ref\":3}}],\"opt\":[\"brNDC\"]},\"fBufferSize\":0,\"fBuffer\":[],\"fBinStatErrOpt\":0,\"fStatOverflows\":2,\"fArray\":[5722706,0,0,0,0,0,0,0,0,0,0,0,0,0,0,0,0,0,0,0,0,0,0,0,0,0,0,0,0,0,0,0,0,0,0,0,0,0,0,0,0,0,0,0,0,0,0,0,0,0,0,0,0,0,0,0,0,0,0,0,0,0,0,0,0,0,0,0,0,0,0,0,0,0,0,0,0,0,0,0,0,0,0,0,0,0,0,0,0,0,0,0,0,0,0,0,0,0,0,0,0,0,0,0,0,0,0,0,0,0,0,0,1,0,0,0,3,8,3,6,10,19,25,45,84,106,202,217,172,239,166,222,251,167,179,217,179,212,148,170,150,138,187,129,110,141,112,119,89,88,112,76,77,87,68,64,63,57,53,52,57,46,32,40,49,35,35,30,35,48,29,22,20,24,34,19,19,24,19,20,10,14,16,11,14,11,12,21,16,15,6,6,12,5,8,5,6,8,3,5,5,3,3,1,3,2,3,2,3,1,4,2,3,3,5,4,2,2,0,1,1,2,2,2,1,1,1,1,1,4,2,0,0,0,2,1,0,1,1,0,0,1,0,1,1,0,1,1,2,0,0,2,0,0,2,0,1,2,1,0,1,0,1,1,2,1,0,0,0,0,0,1,0,4,0,0,0,1,1,1,1,0,1,1,0,0,0,0,1,0,0,1,0,1,0,1,0,0,0,1,3,1,1,1,0,0,2,1,0,0,2,1,1,1,1,1,1,0,1,1,1,0,2,0,2,1,1,0,2,2,0,0,1,1,0,1,1,0,1,1,0,2,2,2,0,0,4,0,0,1,1,1,0,0,0,1,2,1,2,1,2,1,2,0,0,2,0,1,1,2,1,5,1,0,0,1,0,1,2,1,1,1,1,0,0,0,0,0,0,0,1,0,1,2,3,1,0,1,1,2,1,1,1,0,0,2,4,2,0,1,2,1,2,0,3,2,1,1,2,0,2,1,3,0,0,1,1,2,0,0,2,0,2,1,1,4,3,3,5,0,1,1,2,4,4,0,1,3,3,1,2,2,2,1,5,6,1,2,5,1,1,0,2,5,3,4,1,6,2,4,3,2,5,7,5,3,2,4,4,3,2,4,9,6,5,1,4,7,3,6,5,7,9,6,12,7,4,6,9,2,11,9,8,11,11,11,9,10,17,9,14,10,12,12,18,14,17,14,24,18,17,16,23,28,31,17,29,14,26,19,26,25,14,26,22,20,26,34,25,26,37,33,49,37,67,75,86,98,82,93,163,136,177,193,335,343,466,695,660,851,918,948,1014,1383,1404,1483,1143,877,737,561,603,878,853,1117,931,951,575,344,194,90,51,43,42,45,69,78,113,113,146,173,223,272,420,451,701,764,1396,1176,1107,1109,650,470,207,76,34,21,13,21,14,19,9,18,14,17,17,19,23,27,36,32,40,44,66,63,69,111,144,176,220,238,313,339,362,355,287,196,194,128,106,64,81,70,90,134,157,193,284,301,457,609,714,1102,1103,1221,1295,829,527,368,169,64,21,8,16,6,11,5,7,9,9,12,9,16,16,2,17,20,10,15,21,23,28,34,37,38,39,60,72,73,138,148,196,269,294,455,483,721,1090,1073,1242,1117,964,623,343,179,88,32,17,5,2,1,0,1,1,1,0,0,0,0,0,0,0,0,0,0,0,0,0,0,0,0,0,0,0,0,0,0,0,0,0,0,0,0,0,0,0,0,0,0,0,0,0,0,0,1,0,0,0,0,0,0,0,0,0,0,0,1,0,0,0,0,0,0,0,0,0,0,1,0,0,0,0,0,0,1,0,1,0,1,0,0,0,1,0,0,0,1,1,0,1,0,0,0,0,0,0,1,0,1,0,0,1,0,0,1,0,0,0,1,0,0,1,1,0,0,0,2,0,1,0,2,0,2,1,1,2,3,2,2,0,1,1,1,5,4,0,6,5,5,5,5,8,2,8,10,8,11,11,21,15,21,25,26,59,72,67,95,104,105,97,64,55,68,59,95,118,152,221,230,300,321,382,482,459,411,410,244,180,114,102,66,40,48,50,47,49,35,32,27,10,6,5,0,0,0,0,0,0,2,1,0,0,1,0,0,1,0,1,0,1,1,0,0,0,0,0,0,0,0,0,0,0,0,1,1,0,0,0,0,0,0,0,1,0,0,0,0,0,0,0,0,0,0,0,0,0,0,0,0,0,0,0,0,0,0,0,0,0,0,0,0,0,0,0,0,0,0,0,0,0,0,0,0,0,0,0,0,0,0,0,0,0,0,0,0,0,0,0,0,0,0,0,2]},{\"_typename\":\"TPaveText\",\"fUniqueID\":0,\"fBits\":50331657,\"fLineColor\":1,\"fLineStyle\":1,\"fLineWidth\":1,\"fFillColor\":0,\"fFillStyle\":0,\"fX1\":1.22133615804065,\"fY1\":1623.29590640256,\"fX2\":7.77866384195935,\"fY2\":1742.06158613841,\"fX1NDC\":0.261551724137931,\"fY1NDC\":0.933983055615829,\"fX2NDC\":0.738448275862069,\"fY2NDC\":0.995000004768372,\"fBorderSize\":0,\"fInit\":1,\"fShadowColor\":1,\"fCornerRadius\":0,\"fOption\":\"blNDC\",\"fName\":\"title\",\"fTextAngle\":0,\"fTextSize\":0,\"fTextAlign\":22,\"fTextColor\":1,\"fTextFont\":42,\"fLabel\":\"\",\"fLongest\":27,\"fMargin\":0.05,\"fLines\":{\"_typename\":\"TList\",\"name\":\"TList\",\"arr\":[{\"_typename\":\"TLatex\",\"fUniqueID\":0,\"fBits\":50331648,\"fName\":\"\",\"fTitle\":\"pedith[1]*0.007179-1.565575\",\"fTextAngle\":0,\"fTextSize\":0,\"fTextAlign\":0,\"fTextColor\":0,\"fTextFont\":0,\"fX\":0,\"fY\":0,\"fLineColor\":1,\"fLineStyle\":1,\"fLineWidth\":2,\"fLimitFactorSize\":3,\"fOriginSize\":0.0518644079566002}],\"opt\":[\"\"]}}],\"opt\":[\"\",\"\",\"blNDC\"]},\"fExecs\":null,\"fName\":\"c1\",\"fTitle\":\"c1\",\"fNumPaletteColor\":0,\"fNextPaletteColor\":0,\"fDISPLAY\":\"$DISPLAY\",\"fDoubleBuffer\":0,\"fRetained\":true,\"fXsizeUser\":0,\"fYsizeUser\":0,\"fXsizeReal\":20,\"fYsizeReal\":14.28571,\"fWindowTopX\":0,\"fWindowTopY\":0,\"fWindowWidth\":0,\"fWindowHeight\":0,\"fCw\":696,\"fCh\":472,\"fCatt\":{\"_typename\":\"TAttCanvas\",\"fXBetween\":2,\"fYBetween\":2,\"fTitleFromTop\":1.2,\"fXdate\":0.2,\"fYdate\":0.3,\"fAdate\":1},\"kMoveOpaque\":true,\"kResizeOpaque\":true,\"fHighLightColor\":2,\"fBatch\":true,\"kShowEventStatus\":false,\"kAutoExec\":true,\"kMenuBar\":true});\n",
       "       Core.draw(\"root_plot_1\", obj, \"\");\n",
       "     }\n",
       " );\n",
       "</script>\n"
      ],
      "text/plain": [
       "<IPython.core.display.HTML object>"
      ]
     },
     "metadata": {},
     "output_type": "display_data"
    }
   ],
   "source": [
    "tree->Draw(\"pedith[1]*0.007179-1.565575>>(1000,-1,10)\");\n",
    "c1->Draw();"
   ]
  },
  {
   "cell_type": "code",
   "execution_count": 6,
   "metadata": {},
   "outputs": [],
   "source": [
    "ipf->Close();"
   ]
  },
  {
   "cell_type": "code",
   "execution_count": 7,
   "metadata": {},
   "outputs": [
    {
     "data": {
      "text/html": [
       "\n",
       "<div id=\"root_plot_2\"\n",
       "     style=\"width: 696px; height: 472px\">\n",
       "</div>\n",
       "\n",
       "<script>\n",
       " requirejs.config({\n",
       "     paths: {\n",
       "       'JSRootCore' : 'https://root.cern.ch/js/notebook//scripts/JSRootCore',\n",
       "     }\n",
       "   });\n",
       " require(['JSRootCore'],\n",
       "     function(Core) {\n",
       "       var obj = Core.JSONR_unref({\"_typename\":\"TCanvas\",\"fUniqueID\":0,\"fBits\":53673992,\"fLineColor\":1,\"fLineStyle\":1,\"fLineWidth\":1,\"fFillColor\":0,\"fFillStyle\":1001,\"fLeftMargin\":0.1,\"fRightMargin\":0.1,\"fBottomMargin\":0.1,\"fTopMargin\":0.1,\"fXfile\":2,\"fYfile\":2,\"fAfile\":1,\"fXstat\":0.99,\"fYstat\":0.99,\"fAstat\":2,\"fFrameFillColor\":0,\"fFrameLineColor\":1,\"fFrameFillStyle\":1001,\"fFrameLineStyle\":1,\"fFrameLineWidth\":1,\"fFrameBorderSize\":1,\"fFrameBorderMode\":0,\"fX1\":-2.37500010244549,\"fY1\":-248.587518521213,\"fX2\":11.3750001024455,\"fY2\":2237.28751852121,\"fXtoAbsPixelk\":120.218235212396,\"fXtoPixelk\":120.218235212396,\"fXtoPixel\":50.6181810639121,\"fYtoAbsPixelk\":424.800047186661,\"fYtoPixelk\":424.800047186661,\"fYtoPixel\":-0.189872778384533,\"fUtoAbsPixelk\":5e-5,\"fUtoPixelk\":5e-5,\"fUtoPixel\":696,\"fVtoAbsPixelk\":472.00005,\"fVtoPixelk\":472,\"fVtoPixel\":-472,\"fAbsPixeltoXk\":-2.37500010244549,\"fPixeltoXk\":-2.37500010244549,\"fPixeltoX\":0.0197557474208204,\"fAbsPixeltoYk\":2237.28751852121,\"fPixeltoYk\":-248.587518521213,\"fPixeltoY\":-5.26668440051361,\"fXlowNDC\":0,\"fYlowNDC\":0,\"fXUpNDC\":0,\"fYUpNDC\":0,\"fWNDC\":1,\"fHNDC\":1,\"fAbsXlowNDC\":0,\"fAbsYlowNDC\":0,\"fAbsWNDC\":1,\"fAbsHNDC\":1,\"fUxmin\":-1,\"fUymin\":0,\"fUxmax\":10,\"fUymax\":1988.7,\"fTheta\":30,\"fPhi\":30,\"fAspectRatio\":0,\"fNumber\":0,\"fTickx\":0,\"fTicky\":0,\"fLogx\":0,\"fLogy\":0,\"fLogz\":0,\"fPadPaint\":0,\"fCrosshair\":0,\"fCrosshairPos\":0,\"fBorderSize\":2,\"fBorderMode\":0,\"fModified\":false,\"fGridx\":false,\"fGridy\":false,\"fAbsCoord\":false,\"fEditable\":true,\"fFixedAspectRatio\":false,\"fPrimitives\":{\"_typename\":\"TList\",\"name\":\"TList\",\"arr\":[{\"_typename\":\"TFrame\",\"fUniqueID\":0,\"fBits\":50331656,\"fLineColor\":1,\"fLineStyle\":1,\"fLineWidth\":1,\"fFillColor\":0,\"fFillStyle\":1001,\"fX1\":-1,\"fY1\":0,\"fX2\":10,\"fY2\":1988.7,\"fBorderSize\":1,\"fBorderMode\":0},{\"_typename\":\"TH1F\",\"fUniqueID\":0,\"fBits\":50331656,\"fName\":\"\",\"fTitle\":\"pe[1]*0.007179-1.565575\",\"fLineColor\":602,\"fLineStyle\":1,\"fLineWidth\":1,\"fFillColor\":0,\"fFillStyle\":1001,\"fMarkerColor\":1,\"fMarkerStyle\":1,\"fMarkerSize\":1,\"fNcells\":1002,\"fXaxis\":{\"_typename\":\"TAxis\",\"fUniqueID\":0,\"fBits\":50331648,\"fName\":\"xaxis\",\"fTitle\":\"\",\"fNdivisions\":510,\"fAxisColor\":1,\"fLabelColor\":1,\"fLabelFont\":42,\"fLabelOffset\":0.005,\"fLabelSize\":0.035,\"fTickLength\":0.03,\"fTitleOffset\":1,\"fTitleSize\":0.035,\"fTitleColor\":1,\"fTitleFont\":42,\"fNbins\":1000,\"fXmin\":-1,\"fXmax\":10,\"fXbins\":[],\"fFirst\":0,\"fLast\":0,\"fBits2\":0,\"fTimeDisplay\":false,\"fTimeFormat\":\"\",\"fLabels\":null,\"fModLabs\":null},\"fYaxis\":{\"_typename\":\"TAxis\",\"fUniqueID\":0,\"fBits\":50331648,\"fName\":\"yaxis\",\"fTitle\":\"\",\"fNdivisions\":510,\"fAxisColor\":1,\"fLabelColor\":1,\"fLabelFont\":42,\"fLabelOffset\":0.005,\"fLabelSize\":0.035,\"fTickLength\":0.03,\"fTitleOffset\":0,\"fTitleSize\":0.035,\"fTitleColor\":1,\"fTitleFont\":42,\"fNbins\":1,\"fXmin\":0,\"fXmax\":1,\"fXbins\":[],\"fFirst\":0,\"fLast\":0,\"fBits2\":0,\"fTimeDisplay\":false,\"fTimeFormat\":\"\",\"fLabels\":null,\"fModLabs\":null},\"fZaxis\":{\"_typename\":\"TAxis\",\"fUniqueID\":0,\"fBits\":50331648,\"fName\":\"zaxis\",\"fTitle\":\"\",\"fNdivisions\":510,\"fAxisColor\":1,\"fLabelColor\":1,\"fLabelFont\":42,\"fLabelOffset\":0.005,\"fLabelSize\":0.035,\"fTickLength\":0.03,\"fTitleOffset\":1,\"fTitleSize\":0.035,\"fTitleColor\":1,\"fTitleFont\":42,\"fNbins\":1,\"fXmin\":0,\"fXmax\":1,\"fXbins\":[],\"fFirst\":0,\"fLast\":0,\"fBits2\":0,\"fTimeDisplay\":false,\"fTimeFormat\":\"\",\"fLabels\":null,\"fModLabs\":null},\"fBarOffset\":0,\"fBarWidth\":1000,\"fEntries\":5790825,\"fTsumw\":68117,\"fTsumw2\":68117,\"fTsumwx\":375761.566341978,\"fTsumwx2\":2296858.58897751,\"fMaximum\":-1111,\"fMinimum\":-1111,\"fNormFactor\":0,\"fContour\":[],\"fSumw2\":[],\"fOption\":\"\",\"fFunctions\":{\"_typename\":\"TList\",\"name\":\"TList\",\"arr\":[{\"_typename\":\"TPaveStats\",\"fUniqueID\":0,\"fBits\":50331657,\"fLineColor\":1,\"fLineStyle\":1,\"fLineWidth\":1,\"fFillColor\":0,\"fFillStyle\":1001,\"fX1\":8.35000027865172,\"fY1\":1677.96565000364,\"fX2\":11.1000003606081,\"fY2\":2075.70564704024,\"fX1NDC\":0.780000016093254,\"fY1NDC\":0.775000005960464,\"fX2NDC\":0.980000019073486,\"fY2NDC\":0.935000002384186,\"fBorderSize\":1,\"fInit\":1,\"fShadowColor\":1,\"fCornerRadius\":0,\"fOption\":\"brNDC\",\"fName\":\"stats\",\"fTextAngle\":0,\"fTextSize\":0,\"fTextAlign\":12,\"fTextColor\":1,\"fTextFont\":42,\"fLabel\":\"\",\"fLongest\":18,\"fMargin\":0.05,\"fLines\":{\"_typename\":\"TList\",\"name\":\"TList\",\"arr\":[{\"_typename\":\"TLatex\",\"fUniqueID\":0,\"fBits\":50331648,\"fName\":\"\",\"fTitle\":\"\",\"fTextAngle\":0,\"fTextSize\":0.0368,\"fTextAlign\":0,\"fTextColor\":0,\"fTextFont\":0,\"fX\":0,\"fY\":0,\"fLineColor\":1,\"fLineStyle\":1,\"fLineWidth\":2,\"fLimitFactorSize\":3,\"fOriginSize\":0.04},{\"_typename\":\"TLatex\",\"fUniqueID\":0,\"fBits\":50331648,\"fName\":\"\",\"fTitle\":\"Entries = 5790825\",\"fTextAngle\":0,\"fTextSize\":0,\"fTextAlign\":0,\"fTextColor\":0,\"fTextFont\":0,\"fX\":0,\"fY\":0,\"fLineColor\":1,\"fLineStyle\":1,\"fLineWidth\":2,\"fLimitFactorSize\":3,\"fOriginSize\":0.04},{\"_typename\":\"TLatex\",\"fUniqueID\":0,\"fBits\":50331648,\"fName\":\"\",\"fTitle\":\"Mean  =  5.516\",\"fTextAngle\":0,\"fTextSize\":0,\"fTextAlign\":0,\"fTextColor\":0,\"fTextFont\":0,\"fX\":0,\"fY\":0,\"fLineColor\":1,\"fLineStyle\":1,\"fLineWidth\":2,\"fLimitFactorSize\":3,\"fOriginSize\":0.04},{\"_typename\":\"TLatex\",\"fUniqueID\":0,\"fBits\":50331648,\"fName\":\"\",\"fTitle\":\"Std Dev   =  1.813\",\"fTextAngle\":0,\"fTextSize\":0,\"fTextAlign\":0,\"fTextColor\":0,\"fTextFont\":0,\"fX\":0,\"fY\":0,\"fLineColor\":1,\"fLineStyle\":1,\"fLineWidth\":2,\"fLimitFactorSize\":3,\"fOriginSize\":0.04}],\"opt\":[\"\",\"\",\"\",\"\"]},\"fOptFit\":0,\"fOptStat\":1111,\"fFitFormat\":\"5.4g\",\"fStatFormat\":\"6.4g\",\"fParent\":{\"$ref\":3}}],\"opt\":[\"brNDC\"]},\"fBufferSize\":0,\"fBuffer\":[],\"fBinStatErrOpt\":0,\"fStatOverflows\":2,\"fArray\":[5722706,0,0,0,0,0,0,0,0,0,0,0,0,0,0,0,0,0,0,0,0,0,0,0,0,0,0,0,0,0,0,0,0,0,0,0,0,0,0,0,0,0,0,0,0,0,0,0,0,0,0,0,0,0,0,0,0,0,0,0,0,0,0,0,0,0,0,0,0,0,0,0,0,0,0,0,0,0,0,0,0,0,0,0,0,0,0,0,0,0,0,0,0,0,0,0,0,0,0,0,0,0,0,0,0,0,0,0,0,0,0,0,1,0,0,0,5,7,4,6,9,31,20,69,67,167,143,272,113,299,95,283,292,109,290,84,284,114,185,138,167,105,225,83,140,102,153,133,63,124,67,98,45,110,37,97,35,69,33,58,50,51,51,26,59,23,42,21,57,25,37,11,31,11,44,9,32,10,28,17,7,19,10,14,10,17,8,25,9,20,1,8,10,5,12,1,9,6,3,5,5,2,4,0,3,2,4,1,4,3,1,4,3,5,3,3,2,1,0,2,1,2,1,3,0,1,2,0,3,2,2,0,0,0,3,0,1,0,1,0,0,1,1,1,0,0,1,1,2,0,0,2,0,1,1,0,3,0,1,0,1,1,1,1,1,1,0,0,0,0,1,0,1,3,0,0,0,2,0,2,0,0,1,1,0,0,0,0,1,0,1,0,1,0,1,0,0,0,1,0,3,1,1,1,0,2,0,1,0,1,1,1,1,2,0,1,1,0,2,0,1,0,2,0,2,1,1,0,2,2,0,0,2,0,0,2,0,1,0,1,0,2,2,2,0,3,1,0,1,1,1,0,0,0,1,0,3,0,3,0,2,1,2,0,1,1,0,1,1,3,0,6,0,0,0,1,0,1,2,2,1,0,1,0,0,0,0,0,0,0,1,0,2,1,3,1,0,2,0,3,0,2,0,0,1,2,4,1,0,1,3,0,2,1,3,2,1,0,2,0,2,1,3,0,1,0,2,1,0,1,1,1,1,1,1,6,1,7,1,0,1,2,5,2,2,0,3,1,3,1,3,1,3,1,7,3,2,4,2,2,0,1,1,7,1,4,2,6,2,4,2,5,6,7,3,1,3,3,5,2,4,5,8,4,6,1,5,5,5,7,5,7,9,11,5,8,3,9,5,7,7,13,3,14,16,8,11,8,18,5,19,5,17,5,24,9,22,9,29,22,9,28,12,46,12,30,16,21,19,29,16,30,8,30,28,16,44,14,33,20,52,16,55,39,87,48,120,62,115,57,203,190,140,303,255,505,295,957,405,1193,593,1237,690,1751,1000,1894,1231,598,787,422,960,527,1188,818,1157,637,633,183,228,44,62,62,23,81,33,133,69,151,112,230,175,436,253,625,518,1119,1761,805,1507,555,734,231,198,25,41,9,22,13,20,12,13,14,17,24,12,28,12,46,18,46,30,68,39,82,49,156,97,245,293,158,464,185,480,264,300,130,212,84,119,49,101,45,129,200,98,280,233,453,333,848,486,1574,636,1559,947,935,324,419,152,17,18,7,13,10,7,4,9,9,13,6,14,12,16,1,23,20,9,26,12,33,17,41,33,47,25,79,54,106,102,193,313,183,464,327,763,456,1477,747,1685,590,1239,269,387,111,93,32,6,4,0,1,0,1,1,1,0,0,0,0,0,0,0,0,0,0,0,0,0,0,0,0,0,0,0,0,0,0,0,0,0,0,0,0,0,0,0,0,0,0,0,0,0,0,1,0,0,0,0,0,0,0,0,0,0,0,1,0,0,0,0,0,0,0,0,0,0,0,1,0,0,0,0,0,0,1,1,0,1,0,0,0,1,0,0,0,1,0,1,0,1,0,0,0,0,0,0,1,0,1,0,1,0,0,0,1,0,0,1,0,0,0,2,0,0,0,1,1,1,0,1,1,1,2,0,2,1,5,0,2,0,1,1,2,4,4,0,6,10,1,7,5,6,2,10,7,12,8,18,13,25,12,36,51,34,96,48,142,56,146,44,88,33,77,48,136,75,205,284,193,396,227,570,335,569,235,469,156,225,45,128,39,52,66,23,64,34,44,22,24,7,8,1,0,0,0,0,0,0,2,1,0,0,1,0,0,1,1,0,0,1,1,0,0,0,0,0,0,0,0,0,0,0,0,1,1,0,0,0,0,0,0,1,0,0,0,0,0,0,0,0,0,0,0,0,0,0,0,0,0,0,0,0,0,0,0,0,0,0,0,0,0,0,0,0,0,0,0,0,0,0,0,0,0,0,0,0,0,0,0,0,0,0,0,0,0,0,0,0,0,0,0,0,2]},{\"_typename\":\"TPaveText\",\"fUniqueID\":0,\"fBits\":50331657,\"fLineColor\":1,\"fLineStyle\":1,\"fLineWidth\":1,\"fFillColor\":0,\"fFillStyle\":0,\"fX1\":1.6559626012987,\"fY1\":2073.17764445478,\"fX2\":7.3440373987013,\"fY2\":2224.85815518958,\"fX1NDC\":0.29316091954023,\"fY1NDC\":0.933983055615829,\"fX2NDC\":0.70683908045977,\"fY2NDC\":0.995000004768372,\"fBorderSize\":0,\"fInit\":1,\"fShadowColor\":1,\"fCornerRadius\":0,\"fOption\":\"blNDC\",\"fName\":\"title\",\"fTextAngle\":0,\"fTextSize\":0,\"fTextAlign\":22,\"fTextColor\":1,\"fTextFont\":42,\"fLabel\":\"\",\"fLongest\":23,\"fMargin\":0.05,\"fLines\":{\"_typename\":\"TList\",\"name\":\"TList\",\"arr\":[{\"_typename\":\"TLatex\",\"fUniqueID\":0,\"fBits\":50331648,\"fName\":\"\",\"fTitle\":\"pe[1]*0.007179-1.565575\",\"fTextAngle\":0,\"fTextSize\":0,\"fTextAlign\":0,\"fTextColor\":0,\"fTextFont\":0,\"fX\":0,\"fY\":0,\"fLineColor\":1,\"fLineStyle\":1,\"fLineWidth\":2,\"fLimitFactorSize\":3,\"fOriginSize\":0.0518644079566002}],\"opt\":[\"\"]}}],\"opt\":[\"\",\"\",\"blNDC\"]},\"fExecs\":null,\"fName\":\"c1\",\"fTitle\":\"c1\",\"fNumPaletteColor\":0,\"fNextPaletteColor\":0,\"fDISPLAY\":\"$DISPLAY\",\"fDoubleBuffer\":0,\"fRetained\":true,\"fXsizeUser\":0,\"fYsizeUser\":0,\"fXsizeReal\":20,\"fYsizeReal\":14.28571,\"fWindowTopX\":0,\"fWindowTopY\":0,\"fWindowWidth\":0,\"fWindowHeight\":0,\"fCw\":696,\"fCh\":472,\"fCatt\":{\"_typename\":\"TAttCanvas\",\"fXBetween\":2,\"fYBetween\":2,\"fTitleFromTop\":1.2,\"fXdate\":0.2,\"fYdate\":0.3,\"fAdate\":1},\"kMoveOpaque\":true,\"kResizeOpaque\":true,\"fHighLightColor\":2,\"fBatch\":true,\"kShowEventStatus\":false,\"kAutoExec\":true,\"kMenuBar\":true});\n",
       "       Core.draw(\"root_plot_2\", obj, \"\");\n",
       "     }\n",
       " );\n",
       "</script>\n"
      ],
      "text/plain": [
       "<IPython.core.display.HTML object>"
      ]
     },
     "metadata": {},
     "output_type": "display_data"
    }
   ],
   "source": [
    "ipf = new TFile(\"s4.root\",\"read\");\n",
    "tree = (TTree*)ipf->Get(\"tree\");\n",
    "tree->Draw(\"pe[1]*0.007179-1.565575>>(1000,-1,10)\");\n",
    "c1->Draw();"
   ]
  },
  {
   "cell_type": "code",
   "execution_count": 8,
   "metadata": {},
   "outputs": [],
   "source": [
    "ipf->Close();"
   ]
  },
  {
   "cell_type": "markdown",
   "metadata": {},
   "source": [
    "## 小结\n",
    "**对比发现连续化之后加入刻度系数没有了锯齿，谱更加圆滑！**"
   ]
  },
  {
   "cell_type": "code",
   "execution_count": 10,
   "metadata": {},
   "outputs": [
    {
     "name": "stdout",
     "output_type": "stream",
     "text": [
      "[NbConvertApp] Converting notebook homework3.1_1_dithering.ipynb to html\n",
      "\n",
      "[NbConvertApp] Writing 314512 bytes to homework3.1_1_dithering.html\n",
      "\n"
     ]
    }
   ],
   "source": [
    "!jupyter nbconvert homework3.1_1_dithering.ipynb --to html"
   ]
  },
  {
   "cell_type": "code",
   "execution_count": null,
   "metadata": {},
   "outputs": [],
   "source": []
  }
 ],
 "metadata": {
  "kernelspec": {
   "display_name": "ROOT C++",
   "language": "c++",
   "name": "root"
  },
  "language_info": {
   "codemirror_mode": "text/x-c++src",
   "file_extension": ".C",
   "mimetype": " text/x-c++src",
   "name": "c++"
  },
  "toc": {
   "base_numbering": 1,
   "nav_menu": {},
   "number_sections": true,
   "sideBar": true,
   "skip_h1_title": false,
   "title_cell": "Table of Contents",
   "title_sidebar": "Contents",
   "toc_cell": false,
   "toc_position": {},
   "toc_section_display": true,
   "toc_window_display": false
  }
 },
 "nbformat": 4,
 "nbformat_minor": 4
}
